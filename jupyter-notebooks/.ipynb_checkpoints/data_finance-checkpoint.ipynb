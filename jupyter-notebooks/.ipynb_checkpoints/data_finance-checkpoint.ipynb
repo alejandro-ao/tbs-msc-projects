{
 "cells": [
  {
   "cell_type": "markdown",
   "metadata": {
    "id": "1mmnxsN2DeyZ"
   },
   "source": [
    "# Predicting the closing price of a stock on a given day\n",
    "\n",
    "In this project, we aim to predict the daily closing price of Tesla stock between 2006 and 2020. To do this, we will be using a linear regression model, a statistical technique that allows us to model the relationship between a dependent variable (in this case, the stock closing price) and one or more independent variables (in this case, open price, high, low, and volume). \n",
    "\n",
    "By analyzing historical data and fitting a linear regression model to it, we aim to make informed predictions about future stock prices and gain insights into the underlying factors that may influence the price of Tesla stock.\n",
    "\n",
    "As we will see, this project shows that a linear regression model with the given considerations is not an optimal way to predict stock prices. We later included Simple Moving Averages to try to improve our model, but the residuals are presistantly biased. "
   ]
  },
  {
   "cell_type": "markdown",
   "metadata": {
    "id": "SzG3lrF1Sh0Q"
   },
   "source": [
    "## Importing the data\n",
    "We used the Alpha Vantage API free plan to fetch data about the stock. In this case, we analyze the stock price evolution from 2006 to 2020.\n",
    "\n",
    "The data from the API is already well formatted and clean, so the data preparation step involves only the selection of the columns to study."
   ]
  },
  {
   "cell_type": "code",
   "execution_count": null,
   "metadata": {
    "id": "n9_ZKDB6Pt9C"
   },
   "outputs": [],
   "source": [
    "from pandas_datareader import data, wb\n",
    "import pandas as pd\n",
    "import numpy as np\n",
    "import datetime\n",
    "import seaborn as sns\n",
    "import matplotlib.pyplot as plt"
   ]
  },
  {
   "cell_type": "code",
   "execution_count": null,
   "metadata": {
    "id": "nixcXqeuBgJv"
   },
   "outputs": [],
   "source": [
    "start = datetime.datetime(2006,1,1)\n",
    "end = datetime.datetime(2020,1,1)"
   ]
  },
  {
   "cell_type": "code",
   "execution_count": null,
   "metadata": {
    "id": "lE4v_lvnRM_F"
   },
   "outputs": [],
   "source": [
    "API_KEY = \"\"\n",
    "df = data.DataReader(\"TSLA\", 'av-daily-adjusted', start, end, api_key=API_KEY)"
   ]
  },
  {
   "cell_type": "code",
   "execution_count": null,
   "metadata": {
    "colab": {
     "base_uri": "https://localhost:8080/"
    },
    "id": "8qDNlzomR3Jt",
    "outputId": "6342d025-0c4f-4e04-a09d-1b0069ca22da"
   },
   "outputs": [
    {
     "data": {
      "text/html": [
       "\n",
       "  <div id=\"df-f9636872-df75-4a70-b887-b4b11d62a3f7\">\n",
       "    <div class=\"colab-df-container\">\n",
       "      <div>\n",
       "<style scoped>\n",
       "    .dataframe tbody tr th:only-of-type {\n",
       "        vertical-align: middle;\n",
       "    }\n",
       "\n",
       "    .dataframe tbody tr th {\n",
       "        vertical-align: top;\n",
       "    }\n",
       "\n",
       "    .dataframe thead th {\n",
       "        text-align: right;\n",
       "    }\n",
       "</style>\n",
       "<table border=\"1\" class=\"dataframe\">\n",
       "  <thead>\n",
       "    <tr style=\"text-align: right;\">\n",
       "      <th></th>\n",
       "      <th>open</th>\n",
       "      <th>high</th>\n",
       "      <th>low</th>\n",
       "      <th>close</th>\n",
       "      <th>adjusted close</th>\n",
       "      <th>volume</th>\n",
       "      <th>dividend amount</th>\n",
       "      <th>split coefficient</th>\n",
       "    </tr>\n",
       "  </thead>\n",
       "  <tbody>\n",
       "    <tr>\n",
       "      <th>2010-06-29</th>\n",
       "      <td>19.00</td>\n",
       "      <td>25.0000</td>\n",
       "      <td>17.54</td>\n",
       "      <td>23.89</td>\n",
       "      <td>1.592667</td>\n",
       "      <td>18766300</td>\n",
       "      <td>0.0</td>\n",
       "      <td>1.0</td>\n",
       "    </tr>\n",
       "    <tr>\n",
       "      <th>2010-06-30</th>\n",
       "      <td>25.79</td>\n",
       "      <td>30.4192</td>\n",
       "      <td>23.30</td>\n",
       "      <td>23.83</td>\n",
       "      <td>1.588667</td>\n",
       "      <td>17187100</td>\n",
       "      <td>0.0</td>\n",
       "      <td>1.0</td>\n",
       "    </tr>\n",
       "    <tr>\n",
       "      <th>2010-07-01</th>\n",
       "      <td>25.00</td>\n",
       "      <td>25.9200</td>\n",
       "      <td>20.27</td>\n",
       "      <td>21.96</td>\n",
       "      <td>1.464000</td>\n",
       "      <td>8218800</td>\n",
       "      <td>0.0</td>\n",
       "      <td>1.0</td>\n",
       "    </tr>\n",
       "    <tr>\n",
       "      <th>2010-07-02</th>\n",
       "      <td>23.00</td>\n",
       "      <td>23.1000</td>\n",
       "      <td>18.71</td>\n",
       "      <td>19.20</td>\n",
       "      <td>1.280000</td>\n",
       "      <td>5139800</td>\n",
       "      <td>0.0</td>\n",
       "      <td>1.0</td>\n",
       "    </tr>\n",
       "    <tr>\n",
       "      <th>2010-07-06</th>\n",
       "      <td>20.00</td>\n",
       "      <td>20.0000</td>\n",
       "      <td>15.83</td>\n",
       "      <td>16.11</td>\n",
       "      <td>1.074000</td>\n",
       "      <td>6866900</td>\n",
       "      <td>0.0</td>\n",
       "      <td>1.0</td>\n",
       "    </tr>\n",
       "  </tbody>\n",
       "</table>\n",
       "</div>\n",
       "      <button class=\"colab-df-convert\" onclick=\"convertToInteractive('df-f9636872-df75-4a70-b887-b4b11d62a3f7')\"\n",
       "              title=\"Convert this dataframe to an interactive table.\"\n",
       "              style=\"display:none;\">\n",
       "        \n",
       "  <svg xmlns=\"http://www.w3.org/2000/svg\" height=\"24px\"viewBox=\"0 0 24 24\"\n",
       "       width=\"24px\">\n",
       "    <path d=\"M0 0h24v24H0V0z\" fill=\"none\"/>\n",
       "    <path d=\"M18.56 5.44l.94 2.06.94-2.06 2.06-.94-2.06-.94-.94-2.06-.94 2.06-2.06.94zm-11 1L8.5 8.5l.94-2.06 2.06-.94-2.06-.94L8.5 2.5l-.94 2.06-2.06.94zm10 10l.94 2.06.94-2.06 2.06-.94-2.06-.94-.94-2.06-.94 2.06-2.06.94z\"/><path d=\"M17.41 7.96l-1.37-1.37c-.4-.4-.92-.59-1.43-.59-.52 0-1.04.2-1.43.59L10.3 9.45l-7.72 7.72c-.78.78-.78 2.05 0 2.83L4 21.41c.39.39.9.59 1.41.59.51 0 1.02-.2 1.41-.59l7.78-7.78 2.81-2.81c.8-.78.8-2.07 0-2.86zM5.41 20L4 18.59l7.72-7.72 1.47 1.35L5.41 20z\"/>\n",
       "  </svg>\n",
       "      </button>\n",
       "      \n",
       "  <style>\n",
       "    .colab-df-container {\n",
       "      display:flex;\n",
       "      flex-wrap:wrap;\n",
       "      gap: 12px;\n",
       "    }\n",
       "\n",
       "    .colab-df-convert {\n",
       "      background-color: #E8F0FE;\n",
       "      border: none;\n",
       "      border-radius: 50%;\n",
       "      cursor: pointer;\n",
       "      display: none;\n",
       "      fill: #1967D2;\n",
       "      height: 32px;\n",
       "      padding: 0 0 0 0;\n",
       "      width: 32px;\n",
       "    }\n",
       "\n",
       "    .colab-df-convert:hover {\n",
       "      background-color: #E2EBFA;\n",
       "      box-shadow: 0px 1px 2px rgba(60, 64, 67, 0.3), 0px 1px 3px 1px rgba(60, 64, 67, 0.15);\n",
       "      fill: #174EA6;\n",
       "    }\n",
       "\n",
       "    [theme=dark] .colab-df-convert {\n",
       "      background-color: #3B4455;\n",
       "      fill: #D2E3FC;\n",
       "    }\n",
       "\n",
       "    [theme=dark] .colab-df-convert:hover {\n",
       "      background-color: #434B5C;\n",
       "      box-shadow: 0px 1px 3px 1px rgba(0, 0, 0, 0.15);\n",
       "      filter: drop-shadow(0px 1px 2px rgba(0, 0, 0, 0.3));\n",
       "      fill: #FFFFFF;\n",
       "    }\n",
       "  </style>\n",
       "\n",
       "      <script>\n",
       "        const buttonEl =\n",
       "          document.querySelector('#df-f9636872-df75-4a70-b887-b4b11d62a3f7 button.colab-df-convert');\n",
       "        buttonEl.style.display =\n",
       "          google.colab.kernel.accessAllowed ? 'block' : 'none';\n",
       "\n",
       "        async function convertToInteractive(key) {\n",
       "          const element = document.querySelector('#df-f9636872-df75-4a70-b887-b4b11d62a3f7');\n",
       "          const dataTable =\n",
       "            await google.colab.kernel.invokeFunction('convertToInteractive',\n",
       "                                                     [key], {});\n",
       "          if (!dataTable) return;\n",
       "\n",
       "          const docLinkHtml = 'Like what you see? Visit the ' +\n",
       "            '<a target=\"_blank\" href=https://colab.research.google.com/notebooks/data_table.ipynb>data table notebook</a>'\n",
       "            + ' to learn more about interactive tables.';\n",
       "          element.innerHTML = '';\n",
       "          dataTable['output_type'] = 'display_data';\n",
       "          await google.colab.output.renderOutput(dataTable, element);\n",
       "          const docLink = document.createElement('div');\n",
       "          docLink.innerHTML = docLinkHtml;\n",
       "          element.appendChild(docLink);\n",
       "        }\n",
       "      </script>\n",
       "    </div>\n",
       "  </div>\n",
       "  "
      ],
      "text/plain": [
       "             open     high    low  close  adjusted close    volume  \\\n",
       "2010-06-29  19.00  25.0000  17.54  23.89        1.592667  18766300   \n",
       "2010-06-30  25.79  30.4192  23.30  23.83        1.588667  17187100   \n",
       "2010-07-01  25.00  25.9200  20.27  21.96        1.464000   8218800   \n",
       "2010-07-02  23.00  23.1000  18.71  19.20        1.280000   5139800   \n",
       "2010-07-06  20.00  20.0000  15.83  16.11        1.074000   6866900   \n",
       "\n",
       "            dividend amount  split coefficient  \n",
       "2010-06-29              0.0                1.0  \n",
       "2010-06-30              0.0                1.0  \n",
       "2010-07-01              0.0                1.0  \n",
       "2010-07-02              0.0                1.0  \n",
       "2010-07-06              0.0                1.0  "
      ]
     },
     "execution_count": 56,
     "metadata": {},
     "output_type": "execute_result"
    }
   ],
   "source": [
    "df.head()"
   ]
  },
  {
   "cell_type": "code",
   "execution_count": null,
   "metadata": {
    "colab": {
     "base_uri": "https://localhost:8080/"
    },
    "id": "tesrX105E0CW",
    "outputId": "cc312ff1-be9b-4690-a2a0-927606aa26db"
   },
   "outputs": [
    {
     "data": {
      "text/html": [
       "\n",
       "  <div id=\"df-babe6ae4-0599-4017-9d67-35d8e7b38cdb\">\n",
       "    <div class=\"colab-df-container\">\n",
       "      <div>\n",
       "<style scoped>\n",
       "    .dataframe tbody tr th:only-of-type {\n",
       "        vertical-align: middle;\n",
       "    }\n",
       "\n",
       "    .dataframe tbody tr th {\n",
       "        vertical-align: top;\n",
       "    }\n",
       "\n",
       "    .dataframe thead th {\n",
       "        text-align: right;\n",
       "    }\n",
       "</style>\n",
       "<table border=\"1\" class=\"dataframe\">\n",
       "  <thead>\n",
       "    <tr style=\"text-align: right;\">\n",
       "      <th></th>\n",
       "      <th>open</th>\n",
       "      <th>high</th>\n",
       "      <th>low</th>\n",
       "      <th>close</th>\n",
       "      <th>adjusted close</th>\n",
       "      <th>volume</th>\n",
       "      <th>dividend amount</th>\n",
       "      <th>split coefficient</th>\n",
       "    </tr>\n",
       "  </thead>\n",
       "  <tbody>\n",
       "    <tr>\n",
       "      <th>count</th>\n",
       "      <td>2394.000000</td>\n",
       "      <td>2394.000000</td>\n",
       "      <td>2394.000000</td>\n",
       "      <td>2394.000000</td>\n",
       "      <td>2394.000000</td>\n",
       "      <td>2.394000e+03</td>\n",
       "      <td>2394.0</td>\n",
       "      <td>2394.0</td>\n",
       "    </tr>\n",
       "    <tr>\n",
       "      <th>mean</th>\n",
       "      <td>183.113057</td>\n",
       "      <td>186.286435</td>\n",
       "      <td>179.802215</td>\n",
       "      <td>183.153386</td>\n",
       "      <td>12.210226</td>\n",
       "      <td>5.428023e+06</td>\n",
       "      <td>0.0</td>\n",
       "      <td>1.0</td>\n",
       "    </tr>\n",
       "    <tr>\n",
       "      <th>std</th>\n",
       "      <td>114.431157</td>\n",
       "      <td>116.201019</td>\n",
       "      <td>112.594386</td>\n",
       "      <td>114.491714</td>\n",
       "      <td>7.632781</td>\n",
       "      <td>4.716761e+06</td>\n",
       "      <td>0.0</td>\n",
       "      <td>0.0</td>\n",
       "    </tr>\n",
       "    <tr>\n",
       "      <th>min</th>\n",
       "      <td>16.140000</td>\n",
       "      <td>16.630000</td>\n",
       "      <td>14.980000</td>\n",
       "      <td>15.800000</td>\n",
       "      <td>1.053333</td>\n",
       "      <td>1.185000e+05</td>\n",
       "      <td>0.0</td>\n",
       "      <td>1.0</td>\n",
       "    </tr>\n",
       "    <tr>\n",
       "      <th>25%</th>\n",
       "      <td>34.237500</td>\n",
       "      <td>34.800000</td>\n",
       "      <td>33.512500</td>\n",
       "      <td>34.332500</td>\n",
       "      <td>2.288833</td>\n",
       "      <td>1.874050e+06</td>\n",
       "      <td>0.0</td>\n",
       "      <td>1.0</td>\n",
       "    </tr>\n",
       "    <tr>\n",
       "      <th>50%</th>\n",
       "      <td>212.110000</td>\n",
       "      <td>215.940000</td>\n",
       "      <td>208.055000</td>\n",
       "      <td>211.595000</td>\n",
       "      <td>14.106333</td>\n",
       "      <td>4.514167e+06</td>\n",
       "      <td>0.0</td>\n",
       "      <td>1.0</td>\n",
       "    </tr>\n",
       "    <tr>\n",
       "      <th>75%</th>\n",
       "      <td>263.975000</td>\n",
       "      <td>267.755000</td>\n",
       "      <td>260.080000</td>\n",
       "      <td>263.890000</td>\n",
       "      <td>17.592667</td>\n",
       "      <td>7.247861e+06</td>\n",
       "      <td>0.0</td>\n",
       "      <td>1.0</td>\n",
       "    </tr>\n",
       "    <tr>\n",
       "      <th>max</th>\n",
       "      <td>435.000000</td>\n",
       "      <td>435.310000</td>\n",
       "      <td>426.350000</td>\n",
       "      <td>430.940000</td>\n",
       "      <td>28.729333</td>\n",
       "      <td>3.716390e+07</td>\n",
       "      <td>0.0</td>\n",
       "      <td>1.0</td>\n",
       "    </tr>\n",
       "  </tbody>\n",
       "</table>\n",
       "</div>\n",
       "      <button class=\"colab-df-convert\" onclick=\"convertToInteractive('df-babe6ae4-0599-4017-9d67-35d8e7b38cdb')\"\n",
       "              title=\"Convert this dataframe to an interactive table.\"\n",
       "              style=\"display:none;\">\n",
       "        \n",
       "  <svg xmlns=\"http://www.w3.org/2000/svg\" height=\"24px\"viewBox=\"0 0 24 24\"\n",
       "       width=\"24px\">\n",
       "    <path d=\"M0 0h24v24H0V0z\" fill=\"none\"/>\n",
       "    <path d=\"M18.56 5.44l.94 2.06.94-2.06 2.06-.94-2.06-.94-.94-2.06-.94 2.06-2.06.94zm-11 1L8.5 8.5l.94-2.06 2.06-.94-2.06-.94L8.5 2.5l-.94 2.06-2.06.94zm10 10l.94 2.06.94-2.06 2.06-.94-2.06-.94-.94-2.06-.94 2.06-2.06.94z\"/><path d=\"M17.41 7.96l-1.37-1.37c-.4-.4-.92-.59-1.43-.59-.52 0-1.04.2-1.43.59L10.3 9.45l-7.72 7.72c-.78.78-.78 2.05 0 2.83L4 21.41c.39.39.9.59 1.41.59.51 0 1.02-.2 1.41-.59l7.78-7.78 2.81-2.81c.8-.78.8-2.07 0-2.86zM5.41 20L4 18.59l7.72-7.72 1.47 1.35L5.41 20z\"/>\n",
       "  </svg>\n",
       "      </button>\n",
       "      \n",
       "  <style>\n",
       "    .colab-df-container {\n",
       "      display:flex;\n",
       "      flex-wrap:wrap;\n",
       "      gap: 12px;\n",
       "    }\n",
       "\n",
       "    .colab-df-convert {\n",
       "      background-color: #E8F0FE;\n",
       "      border: none;\n",
       "      border-radius: 50%;\n",
       "      cursor: pointer;\n",
       "      display: none;\n",
       "      fill: #1967D2;\n",
       "      height: 32px;\n",
       "      padding: 0 0 0 0;\n",
       "      width: 32px;\n",
       "    }\n",
       "\n",
       "    .colab-df-convert:hover {\n",
       "      background-color: #E2EBFA;\n",
       "      box-shadow: 0px 1px 2px rgba(60, 64, 67, 0.3), 0px 1px 3px 1px rgba(60, 64, 67, 0.15);\n",
       "      fill: #174EA6;\n",
       "    }\n",
       "\n",
       "    [theme=dark] .colab-df-convert {\n",
       "      background-color: #3B4455;\n",
       "      fill: #D2E3FC;\n",
       "    }\n",
       "\n",
       "    [theme=dark] .colab-df-convert:hover {\n",
       "      background-color: #434B5C;\n",
       "      box-shadow: 0px 1px 3px 1px rgba(0, 0, 0, 0.15);\n",
       "      filter: drop-shadow(0px 1px 2px rgba(0, 0, 0, 0.3));\n",
       "      fill: #FFFFFF;\n",
       "    }\n",
       "  </style>\n",
       "\n",
       "      <script>\n",
       "        const buttonEl =\n",
       "          document.querySelector('#df-babe6ae4-0599-4017-9d67-35d8e7b38cdb button.colab-df-convert');\n",
       "        buttonEl.style.display =\n",
       "          google.colab.kernel.accessAllowed ? 'block' : 'none';\n",
       "\n",
       "        async function convertToInteractive(key) {\n",
       "          const element = document.querySelector('#df-babe6ae4-0599-4017-9d67-35d8e7b38cdb');\n",
       "          const dataTable =\n",
       "            await google.colab.kernel.invokeFunction('convertToInteractive',\n",
       "                                                     [key], {});\n",
       "          if (!dataTable) return;\n",
       "\n",
       "          const docLinkHtml = 'Like what you see? Visit the ' +\n",
       "            '<a target=\"_blank\" href=https://colab.research.google.com/notebooks/data_table.ipynb>data table notebook</a>'\n",
       "            + ' to learn more about interactive tables.';\n",
       "          element.innerHTML = '';\n",
       "          dataTable['output_type'] = 'display_data';\n",
       "          await google.colab.output.renderOutput(dataTable, element);\n",
       "          const docLink = document.createElement('div');\n",
       "          docLink.innerHTML = docLinkHtml;\n",
       "          element.appendChild(docLink);\n",
       "        }\n",
       "      </script>\n",
       "    </div>\n",
       "  </div>\n",
       "  "
      ],
      "text/plain": [
       "              open         high          low        close  adjusted close  \\\n",
       "count  2394.000000  2394.000000  2394.000000  2394.000000     2394.000000   \n",
       "mean    183.113057   186.286435   179.802215   183.153386       12.210226   \n",
       "std     114.431157   116.201019   112.594386   114.491714        7.632781   \n",
       "min      16.140000    16.630000    14.980000    15.800000        1.053333   \n",
       "25%      34.237500    34.800000    33.512500    34.332500        2.288833   \n",
       "50%     212.110000   215.940000   208.055000   211.595000       14.106333   \n",
       "75%     263.975000   267.755000   260.080000   263.890000       17.592667   \n",
       "max     435.000000   435.310000   426.350000   430.940000       28.729333   \n",
       "\n",
       "             volume  dividend amount  split coefficient  \n",
       "count  2.394000e+03           2394.0             2394.0  \n",
       "mean   5.428023e+06              0.0                1.0  \n",
       "std    4.716761e+06              0.0                0.0  \n",
       "min    1.185000e+05              0.0                1.0  \n",
       "25%    1.874050e+06              0.0                1.0  \n",
       "50%    4.514167e+06              0.0                1.0  \n",
       "75%    7.247861e+06              0.0                1.0  \n",
       "max    3.716390e+07              0.0                1.0  "
      ]
     },
     "execution_count": 57,
     "metadata": {},
     "output_type": "execute_result"
    }
   ],
   "source": [
    "df.describe()"
   ]
  },
  {
   "cell_type": "code",
   "execution_count": null,
   "metadata": {
    "colab": {
     "base_uri": "https://localhost:8080/"
    },
    "id": "tdgf_H-cE37k",
    "outputId": "76677612-26d4-4365-a578-bff1684ccf2f"
   },
   "outputs": [
    {
     "data": {
      "text/html": [
       "\n",
       "  <div id=\"df-e885c969-d06c-440d-9518-0a547f9ebf0c\">\n",
       "    <div class=\"colab-df-container\">\n",
       "      <div>\n",
       "<style scoped>\n",
       "    .dataframe tbody tr th:only-of-type {\n",
       "        vertical-align: middle;\n",
       "    }\n",
       "\n",
       "    .dataframe tbody tr th {\n",
       "        vertical-align: top;\n",
       "    }\n",
       "\n",
       "    .dataframe thead th {\n",
       "        text-align: right;\n",
       "    }\n",
       "</style>\n",
       "<table border=\"1\" class=\"dataframe\">\n",
       "  <thead>\n",
       "    <tr style=\"text-align: right;\">\n",
       "      <th></th>\n",
       "      <th>open</th>\n",
       "      <th>high</th>\n",
       "      <th>low</th>\n",
       "      <th>volume</th>\n",
       "      <th>close</th>\n",
       "    </tr>\n",
       "  </thead>\n",
       "  <tbody>\n",
       "    <tr>\n",
       "      <th>2010-06-29</th>\n",
       "      <td>19.00</td>\n",
       "      <td>25.0000</td>\n",
       "      <td>17.54</td>\n",
       "      <td>18766300</td>\n",
       "      <td>23.89</td>\n",
       "    </tr>\n",
       "    <tr>\n",
       "      <th>2010-06-30</th>\n",
       "      <td>25.79</td>\n",
       "      <td>30.4192</td>\n",
       "      <td>23.30</td>\n",
       "      <td>17187100</td>\n",
       "      <td>23.83</td>\n",
       "    </tr>\n",
       "    <tr>\n",
       "      <th>2010-07-01</th>\n",
       "      <td>25.00</td>\n",
       "      <td>25.9200</td>\n",
       "      <td>20.27</td>\n",
       "      <td>8218800</td>\n",
       "      <td>21.96</td>\n",
       "    </tr>\n",
       "    <tr>\n",
       "      <th>2010-07-02</th>\n",
       "      <td>23.00</td>\n",
       "      <td>23.1000</td>\n",
       "      <td>18.71</td>\n",
       "      <td>5139800</td>\n",
       "      <td>19.20</td>\n",
       "    </tr>\n",
       "    <tr>\n",
       "      <th>2010-07-06</th>\n",
       "      <td>20.00</td>\n",
       "      <td>20.0000</td>\n",
       "      <td>15.83</td>\n",
       "      <td>6866900</td>\n",
       "      <td>16.11</td>\n",
       "    </tr>\n",
       "  </tbody>\n",
       "</table>\n",
       "</div>\n",
       "      <button class=\"colab-df-convert\" onclick=\"convertToInteractive('df-e885c969-d06c-440d-9518-0a547f9ebf0c')\"\n",
       "              title=\"Convert this dataframe to an interactive table.\"\n",
       "              style=\"display:none;\">\n",
       "        \n",
       "  <svg xmlns=\"http://www.w3.org/2000/svg\" height=\"24px\"viewBox=\"0 0 24 24\"\n",
       "       width=\"24px\">\n",
       "    <path d=\"M0 0h24v24H0V0z\" fill=\"none\"/>\n",
       "    <path d=\"M18.56 5.44l.94 2.06.94-2.06 2.06-.94-2.06-.94-.94-2.06-.94 2.06-2.06.94zm-11 1L8.5 8.5l.94-2.06 2.06-.94-2.06-.94L8.5 2.5l-.94 2.06-2.06.94zm10 10l.94 2.06.94-2.06 2.06-.94-2.06-.94-.94-2.06-.94 2.06-2.06.94z\"/><path d=\"M17.41 7.96l-1.37-1.37c-.4-.4-.92-.59-1.43-.59-.52 0-1.04.2-1.43.59L10.3 9.45l-7.72 7.72c-.78.78-.78 2.05 0 2.83L4 21.41c.39.39.9.59 1.41.59.51 0 1.02-.2 1.41-.59l7.78-7.78 2.81-2.81c.8-.78.8-2.07 0-2.86zM5.41 20L4 18.59l7.72-7.72 1.47 1.35L5.41 20z\"/>\n",
       "  </svg>\n",
       "      </button>\n",
       "      \n",
       "  <style>\n",
       "    .colab-df-container {\n",
       "      display:flex;\n",
       "      flex-wrap:wrap;\n",
       "      gap: 12px;\n",
       "    }\n",
       "\n",
       "    .colab-df-convert {\n",
       "      background-color: #E8F0FE;\n",
       "      border: none;\n",
       "      border-radius: 50%;\n",
       "      cursor: pointer;\n",
       "      display: none;\n",
       "      fill: #1967D2;\n",
       "      height: 32px;\n",
       "      padding: 0 0 0 0;\n",
       "      width: 32px;\n",
       "    }\n",
       "\n",
       "    .colab-df-convert:hover {\n",
       "      background-color: #E2EBFA;\n",
       "      box-shadow: 0px 1px 2px rgba(60, 64, 67, 0.3), 0px 1px 3px 1px rgba(60, 64, 67, 0.15);\n",
       "      fill: #174EA6;\n",
       "    }\n",
       "\n",
       "    [theme=dark] .colab-df-convert {\n",
       "      background-color: #3B4455;\n",
       "      fill: #D2E3FC;\n",
       "    }\n",
       "\n",
       "    [theme=dark] .colab-df-convert:hover {\n",
       "      background-color: #434B5C;\n",
       "      box-shadow: 0px 1px 3px 1px rgba(0, 0, 0, 0.15);\n",
       "      filter: drop-shadow(0px 1px 2px rgba(0, 0, 0, 0.3));\n",
       "      fill: #FFFFFF;\n",
       "    }\n",
       "  </style>\n",
       "\n",
       "      <script>\n",
       "        const buttonEl =\n",
       "          document.querySelector('#df-e885c969-d06c-440d-9518-0a547f9ebf0c button.colab-df-convert');\n",
       "        buttonEl.style.display =\n",
       "          google.colab.kernel.accessAllowed ? 'block' : 'none';\n",
       "\n",
       "        async function convertToInteractive(key) {\n",
       "          const element = document.querySelector('#df-e885c969-d06c-440d-9518-0a547f9ebf0c');\n",
       "          const dataTable =\n",
       "            await google.colab.kernel.invokeFunction('convertToInteractive',\n",
       "                                                     [key], {});\n",
       "          if (!dataTable) return;\n",
       "\n",
       "          const docLinkHtml = 'Like what you see? Visit the ' +\n",
       "            '<a target=\"_blank\" href=https://colab.research.google.com/notebooks/data_table.ipynb>data table notebook</a>'\n",
       "            + ' to learn more about interactive tables.';\n",
       "          element.innerHTML = '';\n",
       "          dataTable['output_type'] = 'display_data';\n",
       "          await google.colab.output.renderOutput(dataTable, element);\n",
       "          const docLink = document.createElement('div');\n",
       "          docLink.innerHTML = docLinkHtml;\n",
       "          element.appendChild(docLink);\n",
       "        }\n",
       "      </script>\n",
       "    </div>\n",
       "  </div>\n",
       "  "
      ],
      "text/plain": [
       "             open     high    low    volume  close\n",
       "2010-06-29  19.00  25.0000  17.54  18766300  23.89\n",
       "2010-06-30  25.79  30.4192  23.30  17187100  23.83\n",
       "2010-07-01  25.00  25.9200  20.27   8218800  21.96\n",
       "2010-07-02  23.00  23.1000  18.71   5139800  19.20\n",
       "2010-07-06  20.00  20.0000  15.83   6866900  16.11"
      ]
     },
     "execution_count": 58,
     "metadata": {},
     "output_type": "execute_result"
    }
   ],
   "source": [
    "# drop useless variables -> close price becomes the target variable\n",
    "df = df[['open', 'high', 'low', 'volume', 'close']]\n",
    "df.head()"
   ]
  },
  {
   "cell_type": "code",
   "execution_count": null,
   "metadata": {
    "colab": {
     "base_uri": "https://localhost:8080/"
    },
    "id": "Q5CtpZK0THZ3",
    "outputId": "e01deb75-e55e-4506-bbb6-f220c9ab54d4"
   },
   "outputs": [
    {
     "data": {
      "image/png": "[encoded data removed]",
      "text/plain": [
       "<Figure size 864x432 with 1 Axes>"
      ]
     },
     "metadata": {
      "needs_background": "light"
     },
     "output_type": "display_data"
    }
   ],
   "source": [
    "# plot stock over time\n",
    "plt.figure(figsize=(12,6))\n",
    "df[\"close\"].plot()\n",
    "plt.title(\"Tesla stock since 2006\")\n",
    "plt.show()"
   ]
  },
  {
   "cell_type": "code",
   "execution_count": null,
   "metadata": {
    "colab": {
     "base_uri": "https://localhost:8080/"
    },
    "id": "M_3kqP38JAt7",
    "outputId": "63a2a028-7788-48e1-fe01-754d985c57cb"
   },
   "outputs": [
    {
     "data": {
      "text/plain": [
       "<seaborn.axisgrid.JointGrid at 0x7f6170689c70>"
      ]
     },
     "execution_count": 60,
     "metadata": {},
     "output_type": "execute_result"
    },
    {
     "data": {
      "image/png": "[encoded data removed]",
      "text/plain": [
       "<Figure size 432x432 with 3 Axes>"
      ]
     },
     "metadata": {
      "needs_background": "light"
     },
     "output_type": "display_data"
    }
   ],
   "source": [
    "sns.jointplot(x=\"open\", y=\"close\", data=df)"
   ]
  },
  {
   "cell_type": "markdown",
   "metadata": {
    "id": "Ra-qwG3WDOft"
   },
   "source": [
    "## Train the model\n",
    "\n",
    "In this section, we will train our linear regression model on the historical data we have collected for Tesla stock. \n",
    "\n",
    "We will split the data into a training set and a validation set, so that we can evaluate the performance of our model on unseen data. Using the training set, we will fit the linear regression model to the data, learning the best coefficients to predict the stock price based on the independent variables. "
   ]
  },
  {
   "cell_type": "code",
   "execution_count": null,
   "metadata": {
    "id": "6GIaNXHSFMVU"
   },
   "outputs": [],
   "source": [
    "from sklearn.model_selection import train_test_split"
   ]
  },
  {
   "cell_type": "code",
   "execution_count": null,
   "metadata": {
    "id": "gy5isq0VF79Y"
   },
   "outputs": [],
   "source": [
    "X = df.iloc[:,:-1]\n",
    "y = df.iloc[:, -1]\n",
    "\n",
    "X_train, X_test, y_train, y_test = train_test_split(X, y, test_size = 0.3, random_state = 42)"
   ]
  },
  {
   "cell_type": "code",
   "execution_count": null,
   "metadata": {
    "colab": {
     "base_uri": "https://localhost:8080/"
    },
    "id": "5HUClnIYGmxw",
    "outputId": "6521cfc9-e382-41ce-8916-7b802b8c71b4"
   },
   "outputs": [
    {
     "data": {
      "text/plain": [
       "LinearRegression()"
      ]
     },
     "execution_count": 21,
     "metadata": {},
     "output_type": "execute_result"
    }
   ],
   "source": [
    "from sklearn.linear_model import LinearRegression\n",
    "\n",
    "lm = LinearRegression()\n",
    "lm.fit(X_train, y_train)"
   ]
  },
  {
   "cell_type": "code",
   "execution_count": null,
   "metadata": {
    "id": "xlQx0YUyG-uU"
   },
   "outputs": [],
   "source": [
    "predictions = lm.predict(X_test)"
   ]
  },
  {
   "cell_type": "markdown",
   "metadata": {
    "id": "ExJo0IPQvWnP"
   },
   "source": []
  },
  {
   "cell_type": "code",
   "execution_count": null,
   "metadata": {
    "colab": {
     "base_uri": "https://localhost:8080/",
     "height": 369
    },
    "id": "bY0rar4EHd9Q",
    "outputId": "e2c7169c-4f30-49fa-b5c1-55c6a54b2b18"
   },
   "outputs": [
    {
     "name": "stderr",
     "output_type": "stream",
     "text": [
      "/usr/local/lib/python3.8/dist-packages/seaborn/_decorators.py:36: FutureWarning: Pass the following variables as keyword args: x, y. From version 0.12, the only valid positional argument will be `data`, and passing other arguments without an explicit keyword will result in an error or misinterpretation.\n",
      "  warnings.warn(\n"
     ]
    },
    {
     "data": {
      "text/plain": [
       "Text(0.5, 1.0, 'Evaluation of predictions')"
      ]
     },
     "execution_count": 25,
     "metadata": {},
     "output_type": "execute_result"
    },
    {
     "data": {
      "image/png": "[encoded data removed]",
      "text/plain": [
       "<Figure size 432x288 with 1 Axes>"
      ]
     },
     "metadata": {
      "needs_background": "light"
     },
     "output_type": "display_data"
    }
   ],
   "source": [
    "sns.scatterplot(predictions, y_test)\n",
    "plt.ylabel(\"Actual Closing Price\")\n",
    "plt.xlabel(\"Prediction\")\n",
    "plt.title(\"Evaluation of predictions\")"
   ]
  },
  {
   "cell_type": "markdown",
   "metadata": {
    "id": "xvup8uOiIYUK"
   },
   "source": [
    "## Evaluation of the model\n",
    "\n",
    "In this section, we evaluate the performance of our linear regression model on the validation set. \n",
    "\n",
    "Our initial results show that the model accurately predicts the closing price based on the open, high, low, and volume variables. \n",
    "\n",
    "However, it is important to thoroughly evaluate the model to ensure that it is robust and generalizes well to new data. One potential concern is that the model might be biased, as indicated by an R2 value that is too high. \n",
    "\n",
    "This could mean that the model is overfitting the data, and may not perform well on new, unseen data."
   ]
  },
  {
   "cell_type": "code",
   "execution_count": null,
   "metadata": {
    "colab": {
     "base_uri": "https://localhost:8080/"
    },
    "id": "SVKI3wZ_Hya5",
    "outputId": "560d9c29-1dc1-4588-b281-4c9e91cb4814"
   },
   "outputs": [
    {
     "name": "stdout",
     "output_type": "stream",
     "text": [
      "Mean Absolute Error: 1.3330602596562915\n",
      "Mean Squared Error: 3.9670131275733764\n",
      "Root Mean Squared Error: 1.9917362093343025\n"
     ]
    }
   ],
   "source": [
    "from sklearn.metrics import mean_squared_error, mean_absolute_error\n",
    "import math\n",
    "\n",
    "print('Mean Absolute Error:', mean_absolute_error(y_test, predictions))\n",
    "print('Mean Squared Error:', mean_squared_error(y_test, predictions))\n",
    "print('Root Mean Squared Error:', math.sqrt(mean_squared_error(y_test, predictions)))"
   ]
  },
  {
   "cell_type": "code",
   "execution_count": null,
   "metadata": {
    "colab": {
     "base_uri": "https://localhost:8080/"
    },
    "id": "7gdQ3veDJicm",
    "outputId": "b1336e5d-8ddd-4f7e-b27b-d3e748d1c008"
   },
   "outputs": [
    {
     "data": {
      "text/plain": [
       "0.999698895469281"
      ]
     },
     "execution_count": 36,
     "metadata": {},
     "output_type": "execute_result"
    }
   ],
   "source": [
    "# r squared\n",
    "lm.score(X,y)"
   ]
  },
  {
   "cell_type": "markdown",
   "metadata": {
    "id": "mX75WpYEIonH"
   },
   "source": [
    "## Residuals Analysis\n",
    "\n",
    "In this section, we will perform a residual analysis to assess the quality of the fit of our linear regression model. Residuals are the differences between the observed values of the dependent variable and the values predicted by the model. A good fit of the model is indicated by residuals that are randomly distributed around zero and have a mean of zero.\n",
    "\n",
    "In the second plot (a QQ-plot of a normal distribution against out distribution), we can see that our residuals are not normally distributed. \n",
    "\n",
    "Indeed, in our case, the residuals follow a distribution with a very high kurtosis. Kurtosis is a measure of the peakedness of a distribution, and a high kurtosis indicates that the distribution is more peaked than a normal distribution. This can mean that the residuals are not randomly distributed, and that the model is not fitting the data well. This could be due to outliers in the data or omitted variables that are important for predicting the stock price. To address this issue, we may need to further refine the model or collect additional data to improve the fit.\n",
    "\n",
    "\n",
    "\n"
   ]
  },
  {
   "cell_type": "code",
   "execution_count": null,
   "metadata": {
    "colab": {
     "base_uri": "https://localhost:8080/",
     "height": 353
    },
    "id": "oufIoos6IioQ",
    "outputId": "a08ba7ca-53c2-4b77-f4ac-62fca38501e4"
   },
   "outputs": [
    {
     "name": "stderr",
     "output_type": "stream",
     "text": [
      "/usr/local/lib/python3.8/dist-packages/seaborn/distributions.py:2619: FutureWarning: `distplot` is a deprecated function and will be removed in a future version. Please adapt your code to use either `displot` (a figure-level function with similar flexibility) or `histplot` (an axes-level function for histograms).\n",
      "  warnings.warn(msg, FutureWarning)\n"
     ]
    },
    {
     "data": {
      "text/plain": [
       "<matplotlib.axes._subplots.AxesSubplot at 0x7f6173626a00>"
      ]
     },
     "execution_count": 32,
     "metadata": {},
     "output_type": "execute_result"
    },
    {
     "data": {
      "image/png": "[encoded data removed]",
      "text/plain": [
       "<Figure size 432x288 with 1 Axes>"
      ]
     },
     "metadata": {
      "needs_background": "light"
     },
     "output_type": "display_data"
    }
   ],
   "source": [
    "residuals = y_test - predictions\n",
    "sns.distplot(residuals, kde=True)"
   ]
  },
  {
   "cell_type": "code",
   "execution_count": null,
   "metadata": {
    "colab": {
     "base_uri": "https://localhost:8080/",
     "height": 295
    },
    "id": "uKxdTGEkIzrL",
    "outputId": "3e76f5b9-b06a-45f0-c0d6-5aad9ca8a924"
   },
   "outputs": [
    {
     "data": {
      "image/png": "[encoded data removed]",
      "text/plain": [
       "<Figure size 432x288 with 1 Axes>"
      ]
     },
     "metadata": {
      "needs_background": "light"
     },
     "output_type": "display_data"
    }
   ],
   "source": [
    "import pylab \n",
    "import scipy.stats as stats\n",
    "\n",
    "stats.probplot(residuals, dist=\"norm\", plot=pylab)\n",
    "pylab.show()"
   ]
  },
  {
   "cell_type": "markdown",
   "metadata": {
    "id": "loDL4h63IWhA"
   },
   "source": [
    "Models seems bad => residuals are not normally distributed. Maybe use another variable? MA?"
   ]
  },
  {
   "cell_type": "markdown",
   "metadata": {
    "id": "wteA2w5GKm8M"
   },
   "source": [
    "## Adding Simple Moving Averages to the model\n",
    "\n",
    "To improve the performance of our linear regression model, we added four new variables to the dataset: SMA7, SMA30, SMA90, and SMA120. These variables represent single moving averages with different time windows and account for the past performance of the stock price. The moving average is a commonly used technical indicator that can help identify trends in the data and provide information about the historical behavior of the stock price.\n",
    "\n",
    "We retrained the linear regression model using these additional variables and compared the performance of the new model to the original model. \n",
    "\n",
    "Despite our initial expectation, the addition of the moving average variables, SMA7, SMA30, SMA90, and SMA120, actually made the model worse. This could be due to several reasons. One possibility is that the moving average variables are highly correlated with the other independent variables, leading to multicollinearity in the model. Multicollinearity can cause unstable and unreliable coefficient estimates, leading to poor model performance.\n",
    "\n",
    "Another possibility is that the moving average variables are not relevant for predicting the stock price, and are adding noise to the model. In this case, the model may be overfitting the data, leading to poor generalization performance. "
   ]
  },
  {
   "cell_type": "code",
   "execution_count": null,
   "metadata": {
    "id": "6MfgMLLxK1Lo"
   },
   "outputs": [],
   "source": [
    "df['SMA7'] = df['close'].rolling(7).mean()\n",
    "df['SMA30'] = df['close'].rolling(30).mean()\n",
    "df['SMA90'] = df['close'].rolling(90).mean()\n",
    "df['SMA120'] = df['close'].rolling(120).mean()"
   ]
  },
  {
   "cell_type": "code",
   "execution_count": null,
   "metadata": {
    "colab": {
     "base_uri": "https://localhost:8080/",
     "height": 390
    },
    "id": "ul2F77jILC1E",
    "outputId": "d5ebfe58-e81a-4021-842e-6c62932bd048"
   },
   "outputs": [
    {
     "data": {
      "image/png": "[encoded data removed]",
      "text/plain": [
       "<Figure size 864x432 with 1 Axes>"
      ]
     },
     "metadata": {
      "needs_background": "light"
     },
     "output_type": "display_data"
    }
   ],
   "source": [
    "# plot stock over time\n",
    "plt.figure(figsize=(12,6))\n",
    "df[\"close\"].plot()\n",
    "df[\"SMA120\"].plot()\n",
    "df[\"SMA90\"].plot()\n",
    "df[\"SMA30\"].plot()\n",
    "df[\"SMA7\"].plot()\n",
    "plt.title(\"Tesla stock since 2006\")\n",
    "plt.show()"
   ]
  },
  {
   "cell_type": "code",
   "execution_count": null,
   "metadata": {
    "colab": {
     "base_uri": "https://localhost:8080/",
     "height": 206
    },
    "id": "U2jxSYNTLbC4",
    "outputId": "fff7b0f9-e0cb-4efe-b962-63f448354c47"
   },
   "outputs": [
    {
     "data": {
      "text/html": [
       "\n",
       "  <div id=\"df-dcc0f795-c7f1-4e1e-82ce-319798e00d0c\">\n",
       "    <div class=\"colab-df-container\">\n",
       "      <div>\n",
       "<style scoped>\n",
       "    .dataframe tbody tr th:only-of-type {\n",
       "        vertical-align: middle;\n",
       "    }\n",
       "\n",
       "    .dataframe tbody tr th {\n",
       "        vertical-align: top;\n",
       "    }\n",
       "\n",
       "    .dataframe thead th {\n",
       "        text-align: right;\n",
       "    }\n",
       "</style>\n",
       "<table border=\"1\" class=\"dataframe\">\n",
       "  <thead>\n",
       "    <tr style=\"text-align: right;\">\n",
       "      <th></th>\n",
       "      <th>open</th>\n",
       "      <th>high</th>\n",
       "      <th>low</th>\n",
       "      <th>volume</th>\n",
       "      <th>SMA7</th>\n",
       "      <th>SMA30</th>\n",
       "      <th>SMA90</th>\n",
       "      <th>SMA120</th>\n",
       "      <th>close</th>\n",
       "    </tr>\n",
       "  </thead>\n",
       "  <tbody>\n",
       "    <tr>\n",
       "      <th>2011-01-28</th>\n",
       "      <td>24.88</td>\n",
       "      <td>24.88</td>\n",
       "      <td>23.750</td>\n",
       "      <td>1048400</td>\n",
       "      <td>24.072857</td>\n",
       "      <td>27.014300</td>\n",
       "      <td>26.042322</td>\n",
       "      <td>24.508117</td>\n",
       "      <td>24.01</td>\n",
       "    </tr>\n",
       "    <tr>\n",
       "      <th>2011-01-31</th>\n",
       "      <td>24.05</td>\n",
       "      <td>24.12</td>\n",
       "      <td>23.500</td>\n",
       "      <td>830300</td>\n",
       "      <td>24.284286</td>\n",
       "      <td>26.790633</td>\n",
       "      <td>26.089322</td>\n",
       "      <td>24.550367</td>\n",
       "      <td>24.10</td>\n",
       "    </tr>\n",
       "    <tr>\n",
       "      <th>2011-02-01</th>\n",
       "      <td>24.31</td>\n",
       "      <td>24.73</td>\n",
       "      <td>23.540</td>\n",
       "      <td>707800</td>\n",
       "      <td>24.408571</td>\n",
       "      <td>26.542300</td>\n",
       "      <td>26.137656</td>\n",
       "      <td>24.600450</td>\n",
       "      <td>23.91</td>\n",
       "    </tr>\n",
       "    <tr>\n",
       "      <th>2011-02-02</th>\n",
       "      <td>24.16</td>\n",
       "      <td>24.18</td>\n",
       "      <td>23.669</td>\n",
       "      <td>569500</td>\n",
       "      <td>24.330000</td>\n",
       "      <td>26.283633</td>\n",
       "      <td>26.180322</td>\n",
       "      <td>24.653283</td>\n",
       "      <td>23.94</td>\n",
       "    </tr>\n",
       "    <tr>\n",
       "      <th>2011-02-03</th>\n",
       "      <td>23.82</td>\n",
       "      <td>23.90</td>\n",
       "      <td>23.150</td>\n",
       "      <td>512000</td>\n",
       "      <td>24.180000</td>\n",
       "      <td>25.995967</td>\n",
       "      <td>26.214767</td>\n",
       "      <td>24.697533</td>\n",
       "      <td>23.63</td>\n",
       "    </tr>\n",
       "  </tbody>\n",
       "</table>\n",
       "</div>\n",
       "      <button class=\"colab-df-convert\" onclick=\"convertToInteractive('df-dcc0f795-c7f1-4e1e-82ce-319798e00d0c')\"\n",
       "              title=\"Convert this dataframe to an interactive table.\"\n",
       "              style=\"display:none;\">\n",
       "        \n",
       "  <svg xmlns=\"http://www.w3.org/2000/svg\" height=\"24px\"viewBox=\"0 0 24 24\"\n",
       "       width=\"24px\">\n",
       "    <path d=\"M0 0h24v24H0V0z\" fill=\"none\"/>\n",
       "    <path d=\"M18.56 5.44l.94 2.06.94-2.06 2.06-.94-2.06-.94-.94-2.06-.94 2.06-2.06.94zm-11 1L8.5 8.5l.94-2.06 2.06-.94-2.06-.94L8.5 2.5l-.94 2.06-2.06.94zm10 10l.94 2.06.94-2.06 2.06-.94-2.06-.94-.94-2.06-.94 2.06-2.06.94z\"/><path d=\"M17.41 7.96l-1.37-1.37c-.4-.4-.92-.59-1.43-.59-.52 0-1.04.2-1.43.59L10.3 9.45l-7.72 7.72c-.78.78-.78 2.05 0 2.83L4 21.41c.39.39.9.59 1.41.59.51 0 1.02-.2 1.41-.59l7.78-7.78 2.81-2.81c.8-.78.8-2.07 0-2.86zM5.41 20L4 18.59l7.72-7.72 1.47 1.35L5.41 20z\"/>\n",
       "  </svg>\n",
       "      </button>\n",
       "      \n",
       "  <style>\n",
       "    .colab-df-container {\n",
       "      display:flex;\n",
       "      flex-wrap:wrap;\n",
       "      gap: 12px;\n",
       "    }\n",
       "\n",
       "    .colab-df-convert {\n",
       "      background-color: #E8F0FE;\n",
       "      border: none;\n",
       "      border-radius: 50%;\n",
       "      cursor: pointer;\n",
       "      display: none;\n",
       "      fill: #1967D2;\n",
       "      height: 32px;\n",
       "      padding: 0 0 0 0;\n",
       "      width: 32px;\n",
       "    }\n",
       "\n",
       "    .colab-df-convert:hover {\n",
       "      background-color: #E2EBFA;\n",
       "      box-shadow: 0px 1px 2px rgba(60, 64, 67, 0.3), 0px 1px 3px 1px rgba(60, 64, 67, 0.15);\n",
       "      fill: #174EA6;\n",
       "    }\n",
       "\n",
       "    [theme=dark] .colab-df-convert {\n",
       "      background-color: #3B4455;\n",
       "      fill: #D2E3FC;\n",
       "    }\n",
       "\n",
       "    [theme=dark] .colab-df-convert:hover {\n",
       "      background-color: #434B5C;\n",
       "      box-shadow: 0px 1px 3px 1px rgba(0, 0, 0, 0.15);\n",
       "      filter: drop-shadow(0px 1px 2px rgba(0, 0, 0, 0.3));\n",
       "      fill: #FFFFFF;\n",
       "    }\n",
       "  </style>\n",
       "\n",
       "      <script>\n",
       "        const buttonEl =\n",
       "          document.querySelector('#df-dcc0f795-c7f1-4e1e-82ce-319798e00d0c button.colab-df-convert');\n",
       "        buttonEl.style.display =\n",
       "          google.colab.kernel.accessAllowed ? 'block' : 'none';\n",
       "\n",
       "        async function convertToInteractive(key) {\n",
       "          const element = document.querySelector('#df-dcc0f795-c7f1-4e1e-82ce-319798e00d0c');\n",
       "          const dataTable =\n",
       "            await google.colab.kernel.invokeFunction('convertToInteractive',\n",
       "                                                     [key], {});\n",
       "          if (!dataTable) return;\n",
       "\n",
       "          const docLinkHtml = 'Like what you see? Visit the ' +\n",
       "            '<a target=\"_blank\" href=https://colab.research.google.com/notebooks/data_table.ipynb>data table notebook</a>'\n",
       "            + ' to learn more about interactive tables.';\n",
       "          element.innerHTML = '';\n",
       "          dataTable['output_type'] = 'display_data';\n",
       "          await google.colab.output.renderOutput(dataTable, element);\n",
       "          const docLink = document.createElement('div');\n",
       "          docLink.innerHTML = docLinkHtml;\n",
       "          element.appendChild(docLink);\n",
       "        }\n",
       "      </script>\n",
       "    </div>\n",
       "  </div>\n",
       "  "
      ],
      "text/plain": [
       "             open   high     low   volume       SMA7      SMA30      SMA90  \\\n",
       "2011-01-28  24.88  24.88  23.750  1048400  24.072857  27.014300  26.042322   \n",
       "2011-01-31  24.05  24.12  23.500   830300  24.284286  26.790633  26.089322   \n",
       "2011-02-01  24.31  24.73  23.540   707800  24.408571  26.542300  26.137656   \n",
       "2011-02-02  24.16  24.18  23.669   569500  24.330000  26.283633  26.180322   \n",
       "2011-02-03  23.82  23.90  23.150   512000  24.180000  25.995967  26.214767   \n",
       "\n",
       "               SMA120  close  \n",
       "2011-01-28  24.508117  24.01  \n",
       "2011-01-31  24.550367  24.10  \n",
       "2011-02-01  24.600450  23.91  \n",
       "2011-02-02  24.653283  23.94  \n",
       "2011-02-03  24.697533  23.63  "
      ]
     },
     "execution_count": 69,
     "metadata": {},
     "output_type": "execute_result"
    }
   ],
   "source": [
    "df = df[['open', 'high', 'low', 'volume', 'SMA7', 'SMA30', 'SMA90', 'SMA120', 'close']]\n",
    "df = df.dropna()\n",
    "df.head()"
   ]
  },
  {
   "cell_type": "code",
   "execution_count": null,
   "metadata": {
    "colab": {
     "base_uri": "https://localhost:8080/"
    },
    "id": "9OJZs5xPL9bV",
    "outputId": "15c349f6-7d86-4e97-aff6-02491c978d67"
   },
   "outputs": [
    {
     "name": "stdout",
     "output_type": "stream",
     "text": [
      "                Coef\n",
      "open   -6.558901e-01\n",
      "high    8.830957e-01\n",
      "low     7.393976e-01\n",
      "volume -1.409011e-08\n",
      "SMA7    3.054692e-02\n",
      "SMA30   4.915605e-03\n",
      "SMA90  -2.461224e-03\n",
      "SMA120 -4.605164e-04\n"
     ]
    }
   ],
   "source": [
    "X = df.iloc[:,:-1]\n",
    "y = df.iloc[:, -1]\n",
    "\n",
    "X_train, X_test, y_train, y_test = train_test_split(X, y, test_size = 0.3, random_state = 42)\n",
    "\n",
    "lm_sma = LinearRegression()\n",
    "lm_sma.fit(X_train, y_train)\n",
    "\n",
    "predictions_sma = lm_sma.predict(X_test)\n",
    "\n",
    "# The coefficients in a dataframe\n",
    "cdf = pd.DataFrame(lm_sma.coef_,X.columns,columns=['Coef'])\n",
    "print(cdf)"
   ]
  },
  {
   "cell_type": "code",
   "execution_count": null,
   "metadata": {
    "colab": {
     "base_uri": "https://localhost:8080/"
    },
    "id": "Ls9nFEK5OpiH",
    "outputId": "f1b7433d-8cca-46e7-b3c8-ff8b2c8b063e"
   },
   "outputs": [
    {
     "name": "stdout",
     "output_type": "stream",
     "text": [
      "Mean Absolute Error: 1.3792400332015502\n",
      "Mean Squared Error: 4.0872444700622985\n",
      "Root Mean Squared Error: 2.021693465899887\n"
     ]
    }
   ],
   "source": [
    "print('Mean Absolute Error:', mean_absolute_error(y_test, predictions_sma))\n",
    "print('Mean Squared Error:', mean_squared_error(y_test, predictions_sma))\n",
    "print('Root Mean Squared Error:', math.sqrt(mean_squared_error(y_test, predictions_sma)))"
   ]
  },
  {
   "cell_type": "code",
   "execution_count": null,
   "metadata": {
    "colab": {
     "base_uri": "https://localhost:8080/",
     "height": 353
    },
    "id": "Qzt5Sd_UM3iU",
    "outputId": "531e3276-71b2-4327-9d1e-baecf819e688"
   },
   "outputs": [
    {
     "name": "stderr",
     "output_type": "stream",
     "text": [
      "/usr/local/lib/python3.8/dist-packages/seaborn/distributions.py:2619: FutureWarning: `distplot` is a deprecated function and will be removed in a future version. Please adapt your code to use either `displot` (a figure-level function with similar flexibility) or `histplot` (an axes-level function for histograms).\n",
      "  warnings.warn(msg, FutureWarning)\n"
     ]
    },
    {
     "data": {
      "text/plain": [
       "<matplotlib.axes._subplots.AxesSubplot at 0x7f6170327e20>"
      ]
     },
     "execution_count": 72,
     "metadata": {},
     "output_type": "execute_result"
    },
    {
     "data": {
      "image/png": "[encoded data removed]",
      "text/plain": [
       "<Figure size 432x288 with 1 Axes>"
      ]
     },
     "metadata": {
      "needs_background": "light"
     },
     "output_type": "display_data"
    }
   ],
   "source": [
    "# residuals\n",
    "residuals_sma = y_test-predictions_sma\n",
    "sns.distplot(residuals_sma, kde=True)"
   ]
  },
  {
   "cell_type": "code",
   "execution_count": null,
   "metadata": {
    "colab": {
     "base_uri": "https://localhost:8080/",
     "height": 295
    },
    "id": "utrbu7SbNCOE",
    "outputId": "6a0be371-8a4a-44a5-e9f5-0cdd0b1f340c"
   },
   "outputs": [
    {
     "data": {
      "image/png": "[encoded data removed]",
      "text/plain": [
       "<Figure size 432x288 with 1 Axes>"
      ]
     },
     "metadata": {
      "needs_background": "light"
     },
     "output_type": "display_data"
    }
   ],
   "source": [
    "stats.probplot(residuals, dist=\"norm\", plot=pylab)\n",
    "pylab.show()\n"
   ]
  },
  {
   "cell_type": "markdown",
   "metadata": {
    "id": "SsNLjPP_Ntpk"
   },
   "source": [
    "## Conclusion\n",
    "\n",
    "In conclusion, we analysed how appropriate a linear regression model was to predict the closing price of a stock. To do this, we considered the daily opening values of the stock, it's high and lows and the volume traded.\n",
    "\n",
    "However, our model has several flaws that makes it not more useful than an academic experiment. After performing the analysis, we have come to the follosing conclusions:\n",
    "\n",
    "### First attempt \n",
    "The first attempt at fitting the model turned out to be overfitting the data, as illustrated by the R^2 value, which was too high. The reason for this is that the model is accounting only for the data of the given day, without taking into consideration the time series nature of the dataset. Also, all the variables \n",
    "\n",
    "### Second attempt\n",
    "The second attempt was not any better. We added several SMAs with different windows in order to try to account for the inercia of the stock's price movement. However, these variables are not only linearly correlated with themselves, but they are also correlated to the previous variables that we had tested. \n",
    "\n",
    "### A better solution to forecast stock prices\n",
    "Something that we could have done differently is using a model that takes into acocunt the time series nature of our dataset instead of a linear regression. We could have employed alternative methods to account for past performance, such as incorporating lagged values of the stock price, or using more sophisticated time-series models, such as ARIMA or SARIMA models.\n",
    "\n"
   ]
  }
 ],
 "metadata": {
  "colab": {
   "collapsed_sections": [
    "SzG3lrF1Sh0Q",
    "Ra-qwG3WDOft",
    "8d89GJ6-GsaK",
    "nyTKrvNMHH5A",
    "xvup8uOiIYUK",
    "mX75WpYEIonH"
   ],
   "provenance": []
  },
  "kernelspec": {
   "display_name": "Python 3 (ipykernel)",
   "language": "python",
   "name": "python3"
  },
  "language_info": {
   "codemirror_mode": {
    "name": "ipython",
    "version": 3
   },
   "file_extension": ".py",
   "mimetype": "text/x-python",
   "name": "python",
   "nbconvert_exporter": "python",
   "pygments_lexer": "ipython3",
   "version": "3.9.12"
  }
 },
 "nbformat": 4,
 "nbformat_minor": 1
}
